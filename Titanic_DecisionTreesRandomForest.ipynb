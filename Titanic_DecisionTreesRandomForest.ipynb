{
  "nbformat": 4,
  "nbformat_minor": 0,
  "metadata": {
    "anaconda-cloud": {},
    "kernelspec": {
      "display_name": "Python 3",
      "language": "python",
      "name": "python3"
    },
    "language_info": {
      "codemirror_mode": {
        "name": "ipython",
        "version": 3
      },
      "file_extension": ".py",
      "mimetype": "text/x-python",
      "name": "python",
      "nbconvert_exporter": "python",
      "pygments_lexer": "ipython3",
      "version": "3.6.5"
    },
    "colab": {
      "name": "Titanic_DecisionTrees.ipynb",
      "provenance": []
    }
  },
  "cells": [
    {
      "cell_type": "markdown",
      "metadata": {
        "id": "yI9Z2ngpHBEm"
      },
      "source": [
        "# Predict survival on the Titanic\n",
        "In this Lab, we will apply the tools of machine learning to predict which passengers survived the tragedy"
      ]
    },
    {
      "cell_type": "markdown",
      "metadata": {
        "id": "6Kk1IYr1HBEp"
      },
      "source": [
        "### Dataset\n",
        "The dataset contains 891 observations of 12 variables:\n",
        "* **PassengerId**: Unique ID for each passenger\n",
        "* **Survived**: Survival (0 = No; 1 = Yes)\n",
        "* **Pclass**: Passenger Class (1 = 1st; 2 = 2nd; 3 = 3rd)\n",
        "* **Name**: Name\n",
        "* **Sex**: Sex\n",
        "* **Age**: Age\n",
        "* **Sibsp**: Number of Siblings/Spouses Aboard\n",
        "* **Parch**: Number of Parents/Children Aboard\n",
        "* **Ticket**: Ticket Number\n",
        "* **Fare**: Passenger Fare\n",
        "* **Cabin**: Cabin\n",
        "* **Embarked** Port of Embarkation (C = Cherbourg; Q = Queenstown; S = Southampton)"
      ]
    },
    {
      "cell_type": "code",
      "metadata": {
        "id": "CdF4eR36HBEr"
      },
      "source": [
        "# imports\n",
        "import warnings\n",
        "warnings.filterwarnings('ignore')\n",
        "import pandas as pd\n",
        "import numpy as np"
      ],
      "execution_count": null,
      "outputs": []
    },
    {
      "cell_type": "code",
      "metadata": {
        "id": "H5ioNxpXHBEx",
        "outputId": "1fb580a3-c7d3-4a47-ba7d-ca1849aca163",
        "colab": {
          "base_uri": "https://localhost:8080/",
          "height": 36
        }
      },
      "source": [
        "import pandas as pd\n",
        "import numpy as np\n",
        "titanic = pd.read_csv('titanic.csv')\n",
        "titanic.drop('Cabin', axis=1, inplace=True) # We Drop this column because it contains a lot of Nan values\n",
        "titanic[\"Age\"].fillna(titanic[\"Age\"].median(),inplace=True)\n",
        "titanic[\"Embarked\"].fillna(\"S\", inplace = True)\n",
        "print ('survival rate =', titanic.Survived.mean())"
      ],
      "execution_count": null,
      "outputs": [
        {
          "output_type": "stream",
          "text": [
            "survival rate = 0.3838383838383838\n"
          ],
          "name": "stdout"
        }
      ]
    },
    {
      "cell_type": "markdown",
      "metadata": {
        "id": "bJUtgk-AHBE3"
      },
      "source": [
        "## Model training"
      ]
    },
    {
      "cell_type": "code",
      "metadata": {
        "id": "IBhQ_8AwHBE4",
        "outputId": "13d76b12-e796-49be-f8dd-b4fbe76f8df2",
        "colab": {
          "base_uri": "https://localhost:8080/",
          "height": 204
        }
      },
      "source": [
        "# Some of the columns don't have predictive power, so let's specify which ones are included for prediction\n",
        "predictors = [\"Pclass\", \"Sex\", \"Age\", 'SibSp' ,'Parch', \"Fare\", \"Embarked\"]  \n",
        "# We need now to convert text columns in predictors to numerical ones\n",
        "for col in predictors: # Loop through all columns in predictors\n",
        "    if titanic[col].dtype == 'object':  # check if column's type is object (text)\n",
        "        titanic[col] = pd.Categorical(titanic[col]).codes  # convert text to numerical\n",
        "\n",
        "titanic.head()"
      ],
      "execution_count": null,
      "outputs": [
        {
          "output_type": "execute_result",
          "data": {
            "text/html": [
              "<div>\n",
              "<style scoped>\n",
              "    .dataframe tbody tr th:only-of-type {\n",
              "        vertical-align: middle;\n",
              "    }\n",
              "\n",
              "    .dataframe tbody tr th {\n",
              "        vertical-align: top;\n",
              "    }\n",
              "\n",
              "    .dataframe thead th {\n",
              "        text-align: right;\n",
              "    }\n",
              "</style>\n",
              "<table border=\"1\" class=\"dataframe\">\n",
              "  <thead>\n",
              "    <tr style=\"text-align: right;\">\n",
              "      <th></th>\n",
              "      <th>PassengerId</th>\n",
              "      <th>Survived</th>\n",
              "      <th>Pclass</th>\n",
              "      <th>Name</th>\n",
              "      <th>Sex</th>\n",
              "      <th>Age</th>\n",
              "      <th>SibSp</th>\n",
              "      <th>Parch</th>\n",
              "      <th>Ticket</th>\n",
              "      <th>Fare</th>\n",
              "      <th>Embarked</th>\n",
              "    </tr>\n",
              "  </thead>\n",
              "  <tbody>\n",
              "    <tr>\n",
              "      <th>0</th>\n",
              "      <td>1</td>\n",
              "      <td>0</td>\n",
              "      <td>3</td>\n",
              "      <td>Braund, Mr. Owen Harris</td>\n",
              "      <td>1</td>\n",
              "      <td>22.0</td>\n",
              "      <td>1</td>\n",
              "      <td>0</td>\n",
              "      <td>A/5 21171</td>\n",
              "      <td>7.2500</td>\n",
              "      <td>2</td>\n",
              "    </tr>\n",
              "    <tr>\n",
              "      <th>1</th>\n",
              "      <td>2</td>\n",
              "      <td>1</td>\n",
              "      <td>1</td>\n",
              "      <td>Cumings, Mrs. John Bradley (Florence Briggs Th...</td>\n",
              "      <td>0</td>\n",
              "      <td>38.0</td>\n",
              "      <td>1</td>\n",
              "      <td>0</td>\n",
              "      <td>PC 17599</td>\n",
              "      <td>71.2833</td>\n",
              "      <td>0</td>\n",
              "    </tr>\n",
              "    <tr>\n",
              "      <th>2</th>\n",
              "      <td>3</td>\n",
              "      <td>1</td>\n",
              "      <td>3</td>\n",
              "      <td>Heikkinen, Miss. Laina</td>\n",
              "      <td>0</td>\n",
              "      <td>26.0</td>\n",
              "      <td>0</td>\n",
              "      <td>0</td>\n",
              "      <td>STON/O2. 3101282</td>\n",
              "      <td>7.9250</td>\n",
              "      <td>2</td>\n",
              "    </tr>\n",
              "    <tr>\n",
              "      <th>3</th>\n",
              "      <td>4</td>\n",
              "      <td>1</td>\n",
              "      <td>1</td>\n",
              "      <td>Futrelle, Mrs. Jacques Heath (Lily May Peel)</td>\n",
              "      <td>0</td>\n",
              "      <td>35.0</td>\n",
              "      <td>1</td>\n",
              "      <td>0</td>\n",
              "      <td>113803</td>\n",
              "      <td>53.1000</td>\n",
              "      <td>2</td>\n",
              "    </tr>\n",
              "    <tr>\n",
              "      <th>4</th>\n",
              "      <td>5</td>\n",
              "      <td>0</td>\n",
              "      <td>3</td>\n",
              "      <td>Allen, Mr. William Henry</td>\n",
              "      <td>1</td>\n",
              "      <td>35.0</td>\n",
              "      <td>0</td>\n",
              "      <td>0</td>\n",
              "      <td>373450</td>\n",
              "      <td>8.0500</td>\n",
              "      <td>2</td>\n",
              "    </tr>\n",
              "  </tbody>\n",
              "</table>\n",
              "</div>"
            ],
            "text/plain": [
              "   PassengerId  Survived  Pclass  ...            Ticket     Fare  Embarked\n",
              "0            1         0       3  ...         A/5 21171   7.2500         2\n",
              "1            2         1       1  ...          PC 17599  71.2833         0\n",
              "2            3         1       3  ...  STON/O2. 3101282   7.9250         2\n",
              "3            4         1       1  ...            113803  53.1000         2\n",
              "4            5         0       3  ...            373450   8.0500         2\n",
              "\n",
              "[5 rows x 11 columns]"
            ]
          },
          "metadata": {
            "tags": []
          },
          "execution_count": 5
        }
      ]
    },
    {
      "cell_type": "code",
      "metadata": {
        "id": "GY966SveHBE-",
        "outputId": "f398d7a4-8a39-47cd-82fb-bd6ebf2a0fdc",
        "colab": {
          "base_uri": "https://localhost:8080/",
          "height": 74
        }
      },
      "source": [
        "# Split the data into a training set and a testing set\n",
        "from sklearn.model_selection import train_test_split \n",
        "X_train, X_test, y_train, y_test = train_test_split(titanic[predictors], titanic['Survived'], test_size=0.3, random_state=1)\n",
        "\n",
        "from sklearn.linear_model import LogisticRegression\n",
        "clf = LogisticRegression(random_state=1)\n",
        "clf.fit(X_train, y_train)\n",
        "train_score = clf.score(X_train, y_train)\n",
        "print ('train accuracy =', clf.score(X_train, y_train))\n",
        "print ('test accuracy =', clf.score(X_test, y_test))\n",
        "\n",
        "from sklearn.model_selection import cross_val_score \n",
        "scores = cross_val_score(clf, titanic[predictors], titanic[\"Survived\"], scoring='accuracy', cv=5)\n",
        "print('cross validation accuracy =', scores.mean())"
      ],
      "execution_count": null,
      "outputs": [
        {
          "output_type": "stream",
          "text": [
            "train accuracy = 0.8073836276083467\n",
            "test accuracy = 0.7723880597014925\n",
            "cross validation accuracy = 0.7890025735986442\n"
          ],
          "name": "stdout"
        }
      ]
    },
    {
      "cell_type": "markdown",
      "metadata": {
        "collapsed": true,
        "id": "MVrBvFPBHBFD"
      },
      "source": [
        " # Decision Trees"
      ]
    },
    {
      "cell_type": "markdown",
      "metadata": {
        "id": "_ElmKVoPHBFF"
      },
      "source": [
        "Let's start with one single tree"
      ]
    },
    {
      "cell_type": "code",
      "metadata": {
        "id": "mPpYzJ1FHBFG",
        "outputId": "81aa6d94-82ed-41fe-9658-3d776bf57e92",
        "colab": {
          "base_uri": "https://localhost:8080/",
          "height": 55
        }
      },
      "source": [
        "from sklearn.tree import DecisionTreeClassifier\n",
        "clf_dt = DecisionTreeClassifier(random_state=1)\n",
        "clf_dt.fit(X_train, y_train)\n",
        "train_score = clf_dt.score(X_train, y_train)\n",
        "test_score = clf_dt.score(X_test, y_test)\n",
        "print ('train accuracy =', train_score)\n",
        "print ('test accuracy =', test_score)"
      ],
      "execution_count": null,
      "outputs": [
        {
          "output_type": "stream",
          "text": [
            "train accuracy = 0.9887640449438202\n",
            "test accuracy = 0.7574626865671642\n"
          ],
          "name": "stdout"
        }
      ]
    },
    {
      "cell_type": "markdown",
      "metadata": {
        "id": "ivdvMPWJHBFM"
      },
      "source": [
        "Predictions are obtained in the same way of Logistic Regression"
      ]
    },
    {
      "cell_type": "code",
      "metadata": {
        "id": "yoAR48KIHBFN",
        "outputId": "56168561-df45-4baa-de9e-ef13ee5ab11c"
      },
      "source": [
        "y_pred = clf_dt.predict(X_test)\n",
        "print (y_pred)"
      ],
      "execution_count": null,
      "outputs": [
        {
          "output_type": "stream",
          "text": [
            "[1 0 1 1 1 0 0 1 0 1 0 0 0 0 1 0 0 0 0 0 0 0 1 0 0 0 1 1 0 1 0 0 1 0 0 0 1\n",
            " 0 1 0 0 0 1 0 1 0 0 0 1 1 1 1 1 0 0 0 0 0 0 0 0 0 0 0 1 0 0 0 1 0 0 0 0 0\n",
            " 1 0 1 0 0 1 0 0 0 0 0 0 0 0 0 1 0 0 0 1 0 0 0 1 0 0 0 0 1 0 1 0 0 0 0 0 1\n",
            " 1 0 0 0 0 0 0 1 0 1 1 0 0 1 1 1 1 0 0 0 0 1 0 1 1 1 0 0 1 1 0 1 0 0 0 1 0\n",
            " 0 0 1 0 0 0 0 1 0 0 1 0 0 0 1 1 0 0 1 0 1 0 1 0 1 0 1 0 0 0 1 0 1 1 0 0 1\n",
            " 0 0 1 0 1 0 1 1 1 0 1 0 1 0 0 0 1 0 1 0 0 1 0 0 0 1 0 0 1 0 0 0 1 1 0 0 0\n",
            " 1 1 0 0 1 1 1 0 1 0 1 0 0 0 0 1 0 0 0 0 0 1 0 1 1 1 0 1 0 0 1 1 1 1 1 1 0\n",
            " 0 1 0 1 0 0 0 0 1]\n"
          ],
          "name": "stdout"
        }
      ]
    },
    {
      "cell_type": "code",
      "metadata": {
        "id": "8zfAFZB-HBFR",
        "outputId": "5dce400e-2037-409d-f83f-80af7debfd88"
      },
      "source": [
        "y_prob = clf_dt.predict_proba(X_test)\n",
        "print (y_prob)"
      ],
      "execution_count": null,
      "outputs": [
        {
          "output_type": "stream",
          "text": [
            "[[ 0.    1.  ]\n",
            " [ 1.    0.  ]\n",
            " [ 0.    1.  ]\n",
            " [ 0.    1.  ]\n",
            " [ 0.    1.  ]\n",
            " [ 1.    0.  ]\n",
            " [ 1.    0.  ]\n",
            " [ 0.    1.  ]\n",
            " [ 1.    0.  ]\n",
            " [ 0.    1.  ]\n",
            " [ 1.    0.  ]\n",
            " [ 1.    0.  ]\n",
            " [ 1.    0.  ]\n",
            " [ 1.    0.  ]\n",
            " [ 0.25  0.75]\n",
            " [ 1.    0.  ]\n",
            " [ 1.    0.  ]\n",
            " [ 1.    0.  ]\n",
            " [ 1.    0.  ]\n",
            " [ 1.    0.  ]\n",
            " [ 0.5   0.5 ]\n",
            " [ 1.    0.  ]\n",
            " [ 0.    1.  ]\n",
            " [ 1.    0.  ]\n",
            " [ 1.    0.  ]\n",
            " [ 1.    0.  ]\n",
            " [ 0.    1.  ]\n",
            " [ 0.    1.  ]\n",
            " [ 1.    0.  ]\n",
            " [ 0.    1.  ]\n",
            " [ 1.    0.  ]\n",
            " [ 1.    0.  ]\n",
            " [ 0.    1.  ]\n",
            " [ 1.    0.  ]\n",
            " [ 1.    0.  ]\n",
            " [ 1.    0.  ]\n",
            " [ 0.    1.  ]\n",
            " [ 1.    0.  ]\n",
            " [ 0.    1.  ]\n",
            " [ 1.    0.  ]\n",
            " [ 1.    0.  ]\n",
            " [ 1.    0.  ]\n",
            " [ 0.    1.  ]\n",
            " [ 1.    0.  ]\n",
            " [ 0.    1.  ]\n",
            " [ 1.    0.  ]\n",
            " [ 1.    0.  ]\n",
            " [ 1.    0.  ]\n",
            " [ 0.    1.  ]\n",
            " [ 0.    1.  ]\n",
            " [ 0.    1.  ]\n",
            " [ 0.    1.  ]\n",
            " [ 0.    1.  ]\n",
            " [ 1.    0.  ]\n",
            " [ 1.    0.  ]\n",
            " [ 1.    0.  ]\n",
            " [ 1.    0.  ]\n",
            " [ 1.    0.  ]\n",
            " [ 1.    0.  ]\n",
            " [ 1.    0.  ]\n",
            " [ 1.    0.  ]\n",
            " [ 0.8   0.2 ]\n",
            " [ 1.    0.  ]\n",
            " [ 1.    0.  ]\n",
            " [ 0.    1.  ]\n",
            " [ 1.    0.  ]\n",
            " [ 1.    0.  ]\n",
            " [ 1.    0.  ]\n",
            " [ 0.    1.  ]\n",
            " [ 1.    0.  ]\n",
            " [ 1.    0.  ]\n",
            " [ 1.    0.  ]\n",
            " [ 1.    0.  ]\n",
            " [ 1.    0.  ]\n",
            " [ 0.    1.  ]\n",
            " [ 1.    0.  ]\n",
            " [ 0.    1.  ]\n",
            " [ 1.    0.  ]\n",
            " [ 1.    0.  ]\n",
            " [ 0.    1.  ]\n",
            " [ 1.    0.  ]\n",
            " [ 1.    0.  ]\n",
            " [ 1.    0.  ]\n",
            " [ 1.    0.  ]\n",
            " [ 1.    0.  ]\n",
            " [ 1.    0.  ]\n",
            " [ 1.    0.  ]\n",
            " [ 1.    0.  ]\n",
            " [ 1.    0.  ]\n",
            " [ 0.    1.  ]\n",
            " [ 1.    0.  ]\n",
            " [ 1.    0.  ]\n",
            " [ 1.    0.  ]\n",
            " [ 0.25  0.75]\n",
            " [ 1.    0.  ]\n",
            " [ 1.    0.  ]\n",
            " [ 1.    0.  ]\n",
            " [ 0.    1.  ]\n",
            " [ 1.    0.  ]\n",
            " [ 1.    0.  ]\n",
            " [ 1.    0.  ]\n",
            " [ 1.    0.  ]\n",
            " [ 0.    1.  ]\n",
            " [ 1.    0.  ]\n",
            " [ 0.    1.  ]\n",
            " [ 1.    0.  ]\n",
            " [ 1.    0.  ]\n",
            " [ 1.    0.  ]\n",
            " [ 1.    0.  ]\n",
            " [ 1.    0.  ]\n",
            " [ 0.    1.  ]\n",
            " [ 0.    1.  ]\n",
            " [ 1.    0.  ]\n",
            " [ 1.    0.  ]\n",
            " [ 1.    0.  ]\n",
            " [ 1.    0.  ]\n",
            " [ 1.    0.  ]\n",
            " [ 1.    0.  ]\n",
            " [ 0.    1.  ]\n",
            " [ 1.    0.  ]\n",
            " [ 0.    1.  ]\n",
            " [ 0.    1.  ]\n",
            " [ 1.    0.  ]\n",
            " [ 1.    0.  ]\n",
            " [ 0.    1.  ]\n",
            " [ 0.    1.  ]\n",
            " [ 0.    1.  ]\n",
            " [ 0.    1.  ]\n",
            " [ 1.    0.  ]\n",
            " [ 1.    0.  ]\n",
            " [ 1.    0.  ]\n",
            " [ 0.5   0.5 ]\n",
            " [ 0.    1.  ]\n",
            " [ 1.    0.  ]\n",
            " [ 0.    1.  ]\n",
            " [ 0.    1.  ]\n",
            " [ 0.    1.  ]\n",
            " [ 1.    0.  ]\n",
            " [ 1.    0.  ]\n",
            " [ 0.    1.  ]\n",
            " [ 0.    1.  ]\n",
            " [ 1.    0.  ]\n",
            " [ 0.    1.  ]\n",
            " [ 1.    0.  ]\n",
            " [ 1.    0.  ]\n",
            " [ 1.    0.  ]\n",
            " [ 0.    1.  ]\n",
            " [ 1.    0.  ]\n",
            " [ 1.    0.  ]\n",
            " [ 1.    0.  ]\n",
            " [ 0.    1.  ]\n",
            " [ 1.    0.  ]\n",
            " [ 1.    0.  ]\n",
            " [ 1.    0.  ]\n",
            " [ 1.    0.  ]\n",
            " [ 0.    1.  ]\n",
            " [ 1.    0.  ]\n",
            " [ 1.    0.  ]\n",
            " [ 0.    1.  ]\n",
            " [ 1.    0.  ]\n",
            " [ 1.    0.  ]\n",
            " [ 1.    0.  ]\n",
            " [ 0.    1.  ]\n",
            " [ 0.    1.  ]\n",
            " [ 1.    0.  ]\n",
            " [ 1.    0.  ]\n",
            " [ 0.    1.  ]\n",
            " [ 1.    0.  ]\n",
            " [ 0.    1.  ]\n",
            " [ 1.    0.  ]\n",
            " [ 0.    1.  ]\n",
            " [ 1.    0.  ]\n",
            " [ 0.    1.  ]\n",
            " [ 1.    0.  ]\n",
            " [ 0.    1.  ]\n",
            " [ 1.    0.  ]\n",
            " [ 1.    0.  ]\n",
            " [ 1.    0.  ]\n",
            " [ 0.    1.  ]\n",
            " [ 1.    0.  ]\n",
            " [ 0.    1.  ]\n",
            " [ 0.    1.  ]\n",
            " [ 1.    0.  ]\n",
            " [ 1.    0.  ]\n",
            " [ 0.    1.  ]\n",
            " [ 1.    0.  ]\n",
            " [ 1.    0.  ]\n",
            " [ 0.    1.  ]\n",
            " [ 1.    0.  ]\n",
            " [ 0.    1.  ]\n",
            " [ 1.    0.  ]\n",
            " [ 0.    1.  ]\n",
            " [ 0.25  0.75]\n",
            " [ 0.    1.  ]\n",
            " [ 1.    0.  ]\n",
            " [ 0.    1.  ]\n",
            " [ 1.    0.  ]\n",
            " [ 0.    1.  ]\n",
            " [ 1.    0.  ]\n",
            " [ 1.    0.  ]\n",
            " [ 1.    0.  ]\n",
            " [ 0.    1.  ]\n",
            " [ 1.    0.  ]\n",
            " [ 0.    1.  ]\n",
            " [ 1.    0.  ]\n",
            " [ 1.    0.  ]\n",
            " [ 0.    1.  ]\n",
            " [ 1.    0.  ]\n",
            " [ 1.    0.  ]\n",
            " [ 0.5   0.5 ]\n",
            " [ 0.    1.  ]\n",
            " [ 1.    0.  ]\n",
            " [ 0.8   0.2 ]\n",
            " [ 0.    1.  ]\n",
            " [ 1.    0.  ]\n",
            " [ 1.    0.  ]\n",
            " [ 1.    0.  ]\n",
            " [ 0.    1.  ]\n",
            " [ 0.    1.  ]\n",
            " [ 1.    0.  ]\n",
            " [ 1.    0.  ]\n",
            " [ 1.    0.  ]\n",
            " [ 0.    1.  ]\n",
            " [ 0.    1.  ]\n",
            " [ 1.    0.  ]\n",
            " [ 1.    0.  ]\n",
            " [ 0.    1.  ]\n",
            " [ 0.    1.  ]\n",
            " [ 0.    1.  ]\n",
            " [ 1.    0.  ]\n",
            " [ 0.    1.  ]\n",
            " [ 1.    0.  ]\n",
            " [ 0.    1.  ]\n",
            " [ 0.5   0.5 ]\n",
            " [ 1.    0.  ]\n",
            " [ 1.    0.  ]\n",
            " [ 1.    0.  ]\n",
            " [ 0.25  0.75]\n",
            " [ 1.    0.  ]\n",
            " [ 1.    0.  ]\n",
            " [ 1.    0.  ]\n",
            " [ 1.    0.  ]\n",
            " [ 1.    0.  ]\n",
            " [ 0.    1.  ]\n",
            " [ 1.    0.  ]\n",
            " [ 0.    1.  ]\n",
            " [ 0.    1.  ]\n",
            " [ 0.    1.  ]\n",
            " [ 1.    0.  ]\n",
            " [ 0.    1.  ]\n",
            " [ 1.    0.  ]\n",
            " [ 1.    0.  ]\n",
            " [ 0.    1.  ]\n",
            " [ 0.    1.  ]\n",
            " [ 0.    1.  ]\n",
            " [ 0.    1.  ]\n",
            " [ 0.    1.  ]\n",
            " [ 0.    1.  ]\n",
            " [ 1.    0.  ]\n",
            " [ 1.    0.  ]\n",
            " [ 0.    1.  ]\n",
            " [ 1.    0.  ]\n",
            " [ 0.25  0.75]\n",
            " [ 1.    0.  ]\n",
            " [ 1.    0.  ]\n",
            " [ 0.5   0.5 ]\n",
            " [ 1.    0.  ]\n",
            " [ 0.    1.  ]]\n"
          ],
          "name": "stdout"
        }
      ]
    },
    {
      "cell_type": "markdown",
      "metadata": {
        "id": "95rnNhrRHBFW"
      },
      "source": [
        "Let's play around with some of the decision tree's parameters"
      ]
    },
    {
      "cell_type": "code",
      "metadata": {
        "id": "aZJDT8-pHBFX",
        "outputId": "b71ea54f-3868-424c-ba33-7053deaa82e6",
        "colab": {
          "base_uri": "https://localhost:8080/",
          "height": 55
        }
      },
      "source": [
        "clf_dt = DecisionTreeClassifier(random_state=1, max_depth=3)\n",
        "clf_dt.fit(X_train, y_train)\n",
        "print ('train accuracy =', clf_dt.score(X_train, y_train))\n",
        "\n",
        "# Cross validation\n",
        "scores_dt = cross_val_score(clf_dt, titanic[predictors], titanic[\"Survived\"], scoring='accuracy', cv=5)\n",
        "print('cross validation accuracy =',scores_dt.mean())"
      ],
      "execution_count": null,
      "outputs": [
        {
          "output_type": "stream",
          "text": [
            "train accuracy = 0.8571428571428571\n",
            "cross validation accuracy = 0.8091959073504487\n"
          ],
          "name": "stdout"
        }
      ]
    },
    {
      "cell_type": "markdown",
      "metadata": {
        "id": "Zne48L_-HBFm"
      },
      "source": [
        "We Predict the probability of a female, Pclass 1 or 2, above age 2.5"
      ]
    },
    {
      "cell_type": "code",
      "metadata": {
        "id": "pdUU1uqYHBFn",
        "outputId": "df50904e-87c5-41ab-8886-7fce9c615f70"
      },
      "source": [
        "passenger1=np.array([1, 0, 3, 0, 0, 0, 0]).reshape(1, -1)\n",
        "print ('proba =', clf_dt.predict_proba(passenger1))\n",
        "print ('class =', clf_dt.predict(passenger1))"
      ],
      "execution_count": null,
      "outputs": [
        {
          "output_type": "stream",
          "text": [
            "proba = [[ 0.04347826  0.95652174]]\n",
            "class = [1]\n"
          ],
          "name": "stdout"
        }
      ]
    },
    {
      "cell_type": "markdown",
      "metadata": {
        "id": "GGjp90ViHBFy"
      },
      "source": [
        "Let's see which are the most important features using the attribute: **feature\\_importances_**"
      ]
    },
    {
      "cell_type": "code",
      "metadata": {
        "id": "U0pQZ4RlHBFz",
        "outputId": "ef8d3148-fb09-4a9f-f4c3-5e19d1e2a69b"
      },
      "source": [
        "feat_imp = pd.DataFrame(clf_dt.feature_importances_, predictors, columns=['Importance'])\n",
        "feat_imp.sort_values('Importance', ascending=False)"
      ],
      "execution_count": null,
      "outputs": [
        {
          "output_type": "execute_result",
          "data": {
            "text/html": [
              "<div>\n",
              "<table border=\"1\" class=\"dataframe\">\n",
              "  <thead>\n",
              "    <tr style=\"text-align: right;\">\n",
              "      <th></th>\n",
              "      <th>Importance</th>\n",
              "    </tr>\n",
              "  </thead>\n",
              "  <tbody>\n",
              "    <tr>\n",
              "      <th>Sex</th>\n",
              "      <td>0.611786</td>\n",
              "    </tr>\n",
              "    <tr>\n",
              "      <th>Pclass</th>\n",
              "      <td>0.189001</td>\n",
              "    </tr>\n",
              "    <tr>\n",
              "      <th>Age</th>\n",
              "      <td>0.084796</td>\n",
              "    </tr>\n",
              "    <tr>\n",
              "      <th>SibSp</th>\n",
              "      <td>0.064193</td>\n",
              "    </tr>\n",
              "    <tr>\n",
              "      <th>Embarked</th>\n",
              "      <td>0.050225</td>\n",
              "    </tr>\n",
              "    <tr>\n",
              "      <th>Parch</th>\n",
              "      <td>0.000000</td>\n",
              "    </tr>\n",
              "    <tr>\n",
              "      <th>Fare</th>\n",
              "      <td>0.000000</td>\n",
              "    </tr>\n",
              "  </tbody>\n",
              "</table>\n",
              "</div>"
            ],
            "text/plain": [
              "          Importance\n",
              "Sex         0.611786\n",
              "Pclass      0.189001\n",
              "Age         0.084796\n",
              "SibSp       0.064193\n",
              "Embarked    0.050225\n",
              "Parch       0.000000\n",
              "Fare        0.000000"
            ]
          },
          "metadata": {
            "tags": []
          },
          "execution_count": 13
        }
      ]
    },
    {
      "cell_type": "markdown",
      "metadata": {
        "id": "aLDPvsvFHBF4"
      },
      "source": [
        "As expected, **Parch** and **Fare** are the least important ones because they were not used for splitting, while **Sex** is the most important one since it was used first for splitting. "
      ]
    },
    {
      "cell_type": "markdown",
      "metadata": {
        "id": "Q6Vi16nLHBF5"
      },
      "source": [
        "# Random Forest\n",
        "A   [Random Forest](http://scikit-learn.org/stable/modules/generated/sklearn.ensemble.RandomForestClassifier.html#sklearn.ensemble.RandomForestClassifier from sklearn.ensemble import RandomForestClassifier) is an ensemble of [decision trees](http://scikit-learn.org/stable/modules/generated/sklearn.tree.DecisionTreeClassifier.html#sklearn.tree.DecisionTreeClassifier)"
      ]
    },
    {
      "cell_type": "code",
      "metadata": {
        "id": "HDu3utFQHBF6",
        "outputId": "63f74c24-f255-4285-aea5-1815230073af"
      },
      "source": [
        "from sklearn.ensemble import RandomForestClassifier\n",
        "clf_rf = RandomForestClassifier(random_state=1)  # by default, 10 trees are used\n",
        "clf_rf.fit(X_train, y_train)\n",
        "print ('train accuracy =', clf_rf.score(X_train, y_train))\n",
        "\n",
        "# Cross validation\n",
        "scores_rf = cross_validation.cross_val_score(clf_rf, titanic[predictors], titanic[\"Survived\"], scoring='accuracy', cv=5)\n",
        "print('cross validation accuracy =',scores_rf.mean())"
      ],
      "execution_count": null,
      "outputs": [
        {
          "output_type": "stream",
          "text": [
            "train accuracy = 0.974317817014\n",
            "cross validation accuracy = 0.813763415464\n"
          ],
          "name": "stdout"
        }
      ]
    },
    {
      "cell_type": "markdown",
      "metadata": {
        "id": "_rtEZ7eXHBF-"
      },
      "source": [
        "In the same way, you can print the feature importance of all the trees"
      ]
    },
    {
      "cell_type": "code",
      "metadata": {
        "id": "wbrwRmiyHBF_",
        "outputId": "eaff6e02-452d-4939-95e8-dd5028273ebd"
      },
      "source": [
        "feat_imp = pd.DataFrame(clf_rf.feature_importances_, predictors, columns=['Importance'])\n",
        "feat_imp.sort_values('Importance', ascending=False)"
      ],
      "execution_count": null,
      "outputs": [
        {
          "output_type": "execute_result",
          "data": {
            "text/html": [
              "<div>\n",
              "<table border=\"1\" class=\"dataframe\">\n",
              "  <thead>\n",
              "    <tr style=\"text-align: right;\">\n",
              "      <th></th>\n",
              "      <th>Importance</th>\n",
              "    </tr>\n",
              "  </thead>\n",
              "  <tbody>\n",
              "    <tr>\n",
              "      <th>Age</th>\n",
              "      <td>0.266266</td>\n",
              "    </tr>\n",
              "    <tr>\n",
              "      <th>Fare</th>\n",
              "      <td>0.257963</td>\n",
              "    </tr>\n",
              "    <tr>\n",
              "      <th>Sex</th>\n",
              "      <td>0.239376</td>\n",
              "    </tr>\n",
              "    <tr>\n",
              "      <th>Pclass</th>\n",
              "      <td>0.087316</td>\n",
              "    </tr>\n",
              "    <tr>\n",
              "      <th>SibSp</th>\n",
              "      <td>0.061535</td>\n",
              "    </tr>\n",
              "    <tr>\n",
              "      <th>Parch</th>\n",
              "      <td>0.054428</td>\n",
              "    </tr>\n",
              "    <tr>\n",
              "      <th>Embarked</th>\n",
              "      <td>0.033116</td>\n",
              "    </tr>\n",
              "  </tbody>\n",
              "</table>\n",
              "</div>"
            ],
            "text/plain": [
              "          Importance\n",
              "Age         0.266266\n",
              "Fare        0.257963\n",
              "Sex         0.239376\n",
              "Pclass      0.087316\n",
              "SibSp       0.061535\n",
              "Parch       0.054428\n",
              "Embarked    0.033116"
            ]
          },
          "metadata": {
            "tags": []
          },
          "execution_count": 15
        }
      ]
    },
    {
      "cell_type": "markdown",
      "metadata": {
        "id": "NtTqK2IkHBGC"
      },
      "source": [
        "Random forest, like decision trees have a lot of parameters to tune. Usually, performance does not change linearly with parameters. Let's take as an example, the accuracy as a function of number of trees (**n_estimators**)"
      ]
    },
    {
      "cell_type": "code",
      "metadata": {
        "scrolled": true,
        "id": "NAnHUKJvHBGD",
        "outputId": "c1d92ede-be28-4678-c4a2-b2d15bbe2cf5"
      },
      "source": [
        "%matplotlib inline\n",
        "import matplotlib.pyplot as plt\n",
        "\n",
        "trees = range(50)\n",
        "accuracy = np.zeros(50)\n",
        "for idx in range(len(trees)):\n",
        "    clf_rf=RandomForestClassifier(random_state=1, n_estimators=idx + 1)\n",
        "    clf_rf.fit(X_train,y_train)\n",
        "    accuracy[idx]=clf_rf.score(X_test, y_test)  \n",
        "\n",
        "plt.plot(trees, accuracy)\n",
        "plt.ylabel('accuracy')\n",
        "plt.xlabel('Number of Trees')"
      ],
      "execution_count": null,
      "outputs": [
        {
          "output_type": "execute_result",
          "data": {
            "text/plain": [
              "<matplotlib.text.Text at 0xb17fe10>"
            ]
          },
          "metadata": {
            "tags": []
          },
          "execution_count": 16
        },
        {
          "output_type": "display_data",
          "data": {
            "image/png": "[encoded data removed]",
            "text/plain": [
              "<matplotlib.figure.Figure at 0x9870358>"
            ]
          },
          "metadata": {
            "tags": []
          }
        }
      ]
    },
    {
      "cell_type": "markdown",
      "metadata": {
        "id": "x21HdLEuHBGG"
      },
      "source": [
        "In the following, we try to tune manually the following parameters: **min_samples_leaf, min_samples_split, max_depth, n_estimators** in order to increase cross validation accuracy."
      ]
    },
    {
      "cell_type": "code",
      "metadata": {
        "id": "pM_9vnSeHBGH",
        "outputId": "cf4af2fa-79cb-439d-b393-831f467264b6"
      },
      "source": [
        "clf_rf = RandomForestClassifier(random_state=1, min_samples_leaf=1, min_samples_split=2, max_depth=3, n_estimators=15)\n",
        "clf_rf.fit(X_train, y_train)\n",
        "print ('train accuracy =', clf_rf.score(X_train, y_train))\n",
        "\n",
        "# Cross validation\n",
        "scores_rf = cross_validation.cross_val_score(clf_rf, titanic[predictors], titanic[\"Survived\"], scoring='accuracy', cv=5)\n",
        "print('cross validation accuracy =', scores_rf.mean())"
      ],
      "execution_count": null,
      "outputs": [
        {
          "output_type": "stream",
          "text": [
            "train accuracy = 0.841091492777\n",
            "cross validation accuracy = 0.786935502575\n"
          ],
          "name": "stdout"
        }
      ]
    },
    {
      "cell_type": "markdown",
      "metadata": {
        "id": "JU7kua7vHBGM"
      },
      "source": [
        "This might be a difficult job to do manually. In other way is to search automatically the best combination of different ranges for these parameters. This is done using **Grid Search**"
      ]
    },
    {
      "cell_type": "markdown",
      "metadata": {
        "id": "Pwq-IxZrHBGN"
      },
      "source": [
        "# Grid Search"
      ]
    },
    {
      "cell_type": "code",
      "metadata": {
        "id": "HTK_lkQEHBGO",
        "outputId": "cd271264-72d6-4a57-e432-da1198b1a391"
      },
      "source": [
        "from sklearn.grid_search import GridSearchCV\n",
        "params = {'min_samples_leaf':list(range(1,5)),'min_samples_split':list(range(2,10,2)),\n",
        "          'n_estimators':list(range(10,50,10))}\n",
        "clf_rf2=RandomForestClassifier(random_state=1)\n",
        "clf_gs=GridSearchCV(clf_rf2, params, scoring ='accuracy', cv=5)\n",
        "clf_gs.fit(titanic[predictors], titanic[\"Survived\"])"
      ],
      "execution_count": null,
      "outputs": [
        {
          "output_type": "execute_result",
          "data": {
            "text/plain": [
              "GridSearchCV(cv=5, error_score='raise',\n",
              "       estimator=RandomForestClassifier(bootstrap=True, class_weight=None, criterion='gini',\n",
              "            max_depth=None, max_features='auto', max_leaf_nodes=None,\n",
              "            min_samples_leaf=1, min_samples_split=2,\n",
              "            min_weight_fraction_leaf=0.0, n_estimators=10, n_jobs=1,\n",
              "            oob_score=False, random_state=1, verbose=0, warm_start=False),\n",
              "       fit_params={}, iid=True, n_jobs=1,\n",
              "       param_grid={'min_samples_split': [2, 4, 6, 8], 'n_estimators': [10, 20, 30, 40], 'min_samples_leaf': [1, 2, 3, 4]},\n",
              "       pre_dispatch='2*n_jobs', refit=True, scoring='accuracy', verbose=0)"
            ]
          },
          "metadata": {
            "tags": []
          },
          "execution_count": 18
        }
      ]
    },
    {
      "cell_type": "markdown",
      "metadata": {
        "id": "5FjwJnitHBGR"
      },
      "source": [
        "Print the best score"
      ]
    },
    {
      "cell_type": "code",
      "metadata": {
        "id": "BTFMpWtHHBGS",
        "outputId": "62b3538a-2cb9-43bd-dc62-db76a57ffd4c"
      },
      "source": [
        "clf_gs.best_score_"
      ],
      "execution_count": null,
      "outputs": [
        {
          "output_type": "execute_result",
          "data": {
            "text/plain": [
              "0.83277216610549942"
            ]
          },
          "metadata": {
            "tags": []
          },
          "execution_count": 19
        }
      ]
    },
    {
      "cell_type": "markdown",
      "metadata": {
        "id": "BBSrxD6tHBGW"
      },
      "source": [
        "Print the best parameters"
      ]
    },
    {
      "cell_type": "code",
      "metadata": {
        "id": "_PzerLLcHBGX",
        "outputId": "26538aea-5d46-487c-e3ca-b4ac7be3919a"
      },
      "source": [
        "clf_gs.best_params_"
      ],
      "execution_count": null,
      "outputs": [
        {
          "output_type": "execute_result",
          "data": {
            "text/plain": [
              "{'min_samples_leaf': 4, 'min_samples_split': 2, 'n_estimators': 30}"
            ]
          },
          "metadata": {
            "tags": []
          },
          "execution_count": 20
        }
      ]
    },
    {
      "cell_type": "markdown",
      "metadata": {
        "id": "hu14DDWbHBGa"
      },
      "source": [
        "Let's use these best parameters and check whether they achieve really the above cv accuracy"
      ]
    },
    {
      "cell_type": "code",
      "metadata": {
        "id": "7MAymrxjHBGb",
        "outputId": "94b9db43-e290-4b30-a090-4771d3b519ed"
      },
      "source": [
        "clf_rf3 = RandomForestClassifier(random_state=1, min_samples_leaf= 4, min_samples_split= 2, n_estimators= 30) \n",
        "clf_rf3.fit(X_train, y_train)\n",
        "print ('train accuracy =', clf_rf3.score(X_train, y_train))\n",
        "\n",
        "scores_rf3 = cross_validation.cross_val_score(clf_rf3, titanic[predictors], titanic[\"Survived\"], scoring='accuracy', cv=5)\n",
        "print('cross validation accuracy =',scores_rf3.mean())"
      ],
      "execution_count": null,
      "outputs": [
        {
          "output_type": "stream",
          "text": [
            "train accuracy = 0.886035313002\n",
            "cross validation accuracy = 0.832820954207\n"
          ],
          "name": "stdout"
        }
      ]
    },
    {
      "cell_type": "markdown",
      "metadata": {
        "collapsed": true,
        "id": "dquVR0aOHBGe"
      },
      "source": [
        "As we can see, grid search allows us to find the best model parameters to improve our accuracy. Now, we can see the most important features of this last classifier"
      ]
    },
    {
      "cell_type": "code",
      "metadata": {
        "id": "oZDaxHoPHBGf",
        "outputId": "90effae7-6721-4d1f-da2e-31763849d2da"
      },
      "source": [
        "feat_imp = pd.DataFrame(clf_rf3.feature_importances_, predictors, columns=['Importance'])\n",
        "feat_imp.sort_values('Importance', ascending=False)"
      ],
      "execution_count": null,
      "outputs": [
        {
          "output_type": "execute_result",
          "data": {
            "text/html": [
              "<div>\n",
              "<table border=\"1\" class=\"dataframe\">\n",
              "  <thead>\n",
              "    <tr style=\"text-align: right;\">\n",
              "      <th></th>\n",
              "      <th>Importance</th>\n",
              "    </tr>\n",
              "  </thead>\n",
              "  <tbody>\n",
              "    <tr>\n",
              "      <th>Sex</th>\n",
              "      <td>0.387434</td>\n",
              "    </tr>\n",
              "    <tr>\n",
              "      <th>Fare</th>\n",
              "      <td>0.204499</td>\n",
              "    </tr>\n",
              "    <tr>\n",
              "      <th>Age</th>\n",
              "      <td>0.147745</td>\n",
              "    </tr>\n",
              "    <tr>\n",
              "      <th>Pclass</th>\n",
              "      <td>0.130683</td>\n",
              "    </tr>\n",
              "    <tr>\n",
              "      <th>SibSp</th>\n",
              "      <td>0.053662</td>\n",
              "    </tr>\n",
              "    <tr>\n",
              "      <th>Parch</th>\n",
              "      <td>0.040667</td>\n",
              "    </tr>\n",
              "    <tr>\n",
              "      <th>Embarked</th>\n",
              "      <td>0.035311</td>\n",
              "    </tr>\n",
              "  </tbody>\n",
              "</table>\n",
              "</div>"
            ],
            "text/plain": [
              "          Importance\n",
              "Sex         0.387434\n",
              "Fare        0.204499\n",
              "Age         0.147745\n",
              "Pclass      0.130683\n",
              "SibSp       0.053662\n",
              "Parch       0.040667\n",
              "Embarked    0.035311"
            ]
          },
          "metadata": {
            "tags": []
          },
          "execution_count": 22
        }
      ]
    }
  ]
}